{
  "cells": [
    {
      "cell_type": "markdown",
      "metadata": {
        "id": "wXbNsNAWAezS"
      },
      "source": [
        "# **Artificial Intelligence: SciKit Learn and Graph Optimisation**\n",
        "## **Part 1: Machine Learning**"
      ]
    },
    {
      "cell_type": "markdown",
      "metadata": {
        "id": "QEaalCiABIU3"
      },
      "source": [
        "## **1.1 Data Preparation**"
      ]
    },
    {
      "cell_type": "code",
      "execution_count": 57,
      "metadata": {
        "id": "8Aq9Rd51_4a8"
      },
      "outputs": [],
      "source": [
        "import pandas as pd\n",
        "import numpy as np\n",
        "import matplotlib.pyplot as plt\n",
        "import random\n",
        "\n",
        "# Splitting Data\n",
        "from sklearn.model_selection import train_test_split\n",
        "\n",
        "# Normalisation\n",
        "from sklearn.pipeline import make_pipeline\n",
        "from sklearn.preprocessing import MinMaxScaler\n",
        "\n",
        "# Regression\n",
        "from sklearn.neural_network import MLPRegressor\n",
        "from sklearn.ensemble import RandomForestRegressor\n",
        "from sklearn.svm import SVR\n",
        "from sklearn.model_selection import GridSearchCV\n",
        "\n",
        "# Performance Metrics of Models\n",
        "from sklearn.metrics import mean_squared_error\n",
        "\n",
        "# Cross Validation\n",
        "from sklearn.model_selection import cross_val_score"
      ]
    },
    {
      "cell_type": "markdown",
      "metadata": {
        "id": "9L1LZgzGBaw-"
      },
      "source": [
        "## Creating & Labelling Pandas Data Frame\n",
        "1. Please drag & drop the dataset file to the files folder in co-lab or have at the root directory of the ipynb file for the juniper notebook file."
      ]
    },
    {
      "cell_type": "code",
      "execution_count": 58,
      "metadata": {
        "id": "xkufthZFBLMB"
      },
      "outputs": [],
      "source": [
        "# Contains all Data\n",
        "# Notes: Data attributes are not labeled (Not Required: Will label to visualise the data before any ML (SVM, ANN...))\n",
        "\n",
        "# shippingPD: Contains all shipping Data (Pandas Obj)\n",
        "# Shape: (99,11) using np.shape()\n",
        "cols = [\"Ship_ID\", \"Ship_Name\", \"Year_Built\", \"Gross_tonnage\", \"Deadweight_tonnage\", \"Length_of_ship\", \"Width_of_ship\", \"Capacity\", \"Number_of_forward_bays\", \"Number_of_centre_bays\", \"Number_of_aft_bays\"]\n",
        "shipping_df = pd.read_csv(\"./containers.csv\", names=cols)"
      ]
    },
    {
      "cell_type": "code",
      "execution_count": 59,
      "metadata": {
        "id": "E_WZuSdhJM5W"
      },
      "outputs": [],
      "source": [
        "# Slicing the to obtain the features matrix and excluding data not needed for training\n",
        "feature_matrix = shipping_df.iloc[:,2:11]\n",
        "targets_vector = shipping_df[[\"Capacity\"]]\n",
        "\n",
        "# Removing Targets from feature matrix\n",
        "feature_matrix = feature_matrix.drop('Capacity', axis=1)"
      ]
    },
    {
      "cell_type": "markdown",
      "metadata": {
        "id": "W9wYyV6JZ9GE"
      },
      "source": [
        "## Normalising the Data & PCA Transformation\n",
        "\n",
        "Normalisation is benificial for the training of Artificial Neural networks and Support Vector Machines. However there is no need to normalise the data for decision trees as they work well with messy data and keep the explainability of the model.\n",
        "\n",
        "Keeping the Principle Components is benificial, during my findings if I add this data preporcessing step after Normalising the data the accuracy of unseen data goes up significantly"
      ]
    },
    {
      "cell_type": "code",
      "execution_count": 60,
      "metadata": {
        "id": "zRDmhGc1e6dN"
      },
      "outputs": [],
      "source": [
        "scaler = MinMaxScaler()\n",
        "feature_matrix_scaled = scaler.fit_transform(feature_matrix)"
      ]
    },
    {
      "cell_type": "markdown",
      "metadata": {
        "id": "-XDQ3eJEO4Sv"
      },
      "source": [
        "## Seperating Training & Testing Sets\n",
        "\n",
        "Training : Test Split Ratio (70:30)\n",
        "\n",
        "Reasoning\n",
        "> The Models that will be trained should be generalised to not overfit to the training set. The accuracies shown for the training data will be misleading as it will appear to be much greater than the actural real world performace with unseen data (Schaffer, 1993).\n",
        "\n",
        "Notes:\n",
        "\n",
        "*   test_size=0.3: Sets the Train Test Split as 70:30\n",
        "*   random_state: Set to Blank to shuffle randomly each time\n",
        "*   Training Set is Normalised. Targets are not Normalised"
      ]
    },
    {
      "cell_type": "markdown",
      "metadata": {
        "id": "frJMXrg1l31a"
      },
      "source": [
        "## 1.2 Regression\n",
        "\n",
        "Will run a different permutation of train test split for each model but same 70:30 train test split"
      ]
    },
    {
      "cell_type": "code",
      "execution_count": 61,
      "metadata": {
        "id": "R72AFB_WTkzo"
      },
      "outputs": [],
      "source": [
        "# Calculating the Index to Split based on the 70:30 Split\n",
        "# The full training set/feature matrix is normalised already\n",
        "x_train, x_test, y_train, y_test = train_test_split(feature_matrix_scaled, targets_vector, test_size=0.3)"
      ]
    },
    {
      "cell_type": "markdown",
      "metadata": {
        "id": "qfDSIaVyiNZj"
      },
      "source": [
        "## Training the Artificial Neural Network Regressor\n",
        "*   Time ETA 45 Sec on Colab\n",
        "\n",
        "55,000 iterations seems to accurately predict the test set indicating the model is not overfitted\n"
      ]
    },
    {
      "cell_type": "code",
      "execution_count": 62,
      "metadata": {
        "colab": {
          "base_uri": "https://localhost:8080/",
          "height": 130
        },
        "id": "5crGYziJjO_8",
        "outputId": "5d5168fc-5e8c-4c10-df67-d15678b1e4d6"
      },
      "outputs": [
        {
          "name": "stderr",
          "output_type": "stream",
          "text": [
            "/usr/local/lib/python3.10/dist-packages/sklearn/neural_network/_multilayer_perceptron.py:686: ConvergenceWarning: Stochastic Optimizer: Maximum iterations (55000) reached and the optimization hasn't converged yet.\n",
            "  warnings.warn(\n"
          ]
        },
        {
          "data": {
            "text/html": [
              "<style>#sk-container-id-2 {color: black;background-color: white;}#sk-container-id-2 pre{padding: 0;}#sk-container-id-2 div.sk-toggleable {background-color: white;}#sk-container-id-2 label.sk-toggleable__label {cursor: pointer;display: block;width: 100%;margin-bottom: 0;padding: 0.3em;box-sizing: border-box;text-align: center;}#sk-container-id-2 label.sk-toggleable__label-arrow:before {content: \"▸\";float: left;margin-right: 0.25em;color: #696969;}#sk-container-id-2 label.sk-toggleable__label-arrow:hover:before {color: black;}#sk-container-id-2 div.sk-estimator:hover label.sk-toggleable__label-arrow:before {color: black;}#sk-container-id-2 div.sk-toggleable__content {max-height: 0;max-width: 0;overflow: hidden;text-align: left;background-color: #f0f8ff;}#sk-container-id-2 div.sk-toggleable__content pre {margin: 0.2em;color: black;border-radius: 0.25em;background-color: #f0f8ff;}#sk-container-id-2 input.sk-toggleable__control:checked~div.sk-toggleable__content {max-height: 200px;max-width: 100%;overflow: auto;}#sk-container-id-2 input.sk-toggleable__control:checked~label.sk-toggleable__label-arrow:before {content: \"▾\";}#sk-container-id-2 div.sk-estimator input.sk-toggleable__control:checked~label.sk-toggleable__label {background-color: #d4ebff;}#sk-container-id-2 div.sk-label input.sk-toggleable__control:checked~label.sk-toggleable__label {background-color: #d4ebff;}#sk-container-id-2 input.sk-hidden--visually {border: 0;clip: rect(1px 1px 1px 1px);clip: rect(1px, 1px, 1px, 1px);height: 1px;margin: -1px;overflow: hidden;padding: 0;position: absolute;width: 1px;}#sk-container-id-2 div.sk-estimator {font-family: monospace;background-color: #f0f8ff;border: 1px dotted black;border-radius: 0.25em;box-sizing: border-box;margin-bottom: 0.5em;}#sk-container-id-2 div.sk-estimator:hover {background-color: #d4ebff;}#sk-container-id-2 div.sk-parallel-item::after {content: \"\";width: 100%;border-bottom: 1px solid gray;flex-grow: 1;}#sk-container-id-2 div.sk-label:hover label.sk-toggleable__label {background-color: #d4ebff;}#sk-container-id-2 div.sk-serial::before {content: \"\";position: absolute;border-left: 1px solid gray;box-sizing: border-box;top: 0;bottom: 0;left: 50%;z-index: 0;}#sk-container-id-2 div.sk-serial {display: flex;flex-direction: column;align-items: center;background-color: white;padding-right: 0.2em;padding-left: 0.2em;position: relative;}#sk-container-id-2 div.sk-item {position: relative;z-index: 1;}#sk-container-id-2 div.sk-parallel {display: flex;align-items: stretch;justify-content: center;background-color: white;position: relative;}#sk-container-id-2 div.sk-item::before, #sk-container-id-2 div.sk-parallel-item::before {content: \"\";position: absolute;border-left: 1px solid gray;box-sizing: border-box;top: 0;bottom: 0;left: 50%;z-index: -1;}#sk-container-id-2 div.sk-parallel-item {display: flex;flex-direction: column;z-index: 1;position: relative;background-color: white;}#sk-container-id-2 div.sk-parallel-item:first-child::after {align-self: flex-end;width: 50%;}#sk-container-id-2 div.sk-parallel-item:last-child::after {align-self: flex-start;width: 50%;}#sk-container-id-2 div.sk-parallel-item:only-child::after {width: 0;}#sk-container-id-2 div.sk-dashed-wrapped {border: 1px dashed gray;margin: 0 0.4em 0.5em 0.4em;box-sizing: border-box;padding-bottom: 0.4em;background-color: white;}#sk-container-id-2 div.sk-label label {font-family: monospace;font-weight: bold;display: inline-block;line-height: 1.2em;}#sk-container-id-2 div.sk-label-container {text-align: center;}#sk-container-id-2 div.sk-container {/* jupyter's `normalize.less` sets `[hidden] { display: none; }` but bootstrap.min.css set `[hidden] { display: none !important; }` so we also need the `!important` here to be able to override the default hidden behavior on the sphinx rendered scikit-learn.org. See: https://github.com/scikit-learn/scikit-learn/issues/21755 */display: inline-block !important;position: relative;}#sk-container-id-2 div.sk-text-repr-fallback {display: none;}</style><div id=\"sk-container-id-2\" class=\"sk-top-container\"><div class=\"sk-text-repr-fallback\"><pre>MLPRegressor(max_iter=55000)</pre><b>In a Jupyter environment, please rerun this cell to show the HTML representation or trust the notebook. <br />On GitHub, the HTML representation is unable to render, please try loading this page with nbviewer.org.</b></div><div class=\"sk-container\" hidden><div class=\"sk-item\"><div class=\"sk-estimator sk-toggleable\"><input class=\"sk-toggleable__control sk-hidden--visually\" id=\"sk-estimator-id-2\" type=\"checkbox\" checked><label for=\"sk-estimator-id-2\" class=\"sk-toggleable__label sk-toggleable__label-arrow\">MLPRegressor</label><div class=\"sk-toggleable__content\"><pre>MLPRegressor(max_iter=55000)</pre></div></div></div></div></div>"
            ],
            "text/plain": [
              "MLPRegressor(max_iter=55000)"
            ]
          },
          "execution_count": 62,
          "metadata": {},
          "output_type": "execute_result"
        }
      ],
      "source": [
        "ANN_regressor = MLPRegressor(max_iter=55_000)\n",
        "\n",
        "# y_train Column Vector to Row Vector\n",
        "ANN_regressor.fit(x_train, np.squeeze(y_train))"
      ]
    },
    {
      "cell_type": "markdown",
      "metadata": {
        "id": "WKo4biomjdT0"
      },
      "source": [
        "## Predicting the Testing Set"
      ]
    },
    {
      "cell_type": "code",
      "execution_count": 63,
      "metadata": {
        "id": "lHluWYcQjhWJ"
      },
      "outputs": [],
      "source": [
        "y_pred = ANN_regressor.predict(x_test)\n",
        "\n",
        "mse = mean_squared_error(y_test, y_pred)\n",
        "\n",
        "# Used to compare the actual and the test\n",
        "# print(mse)\n",
        "# print(y_pred)\n",
        "# print(y_test)"
      ]
    },
    {
      "cell_type": "markdown",
      "metadata": {
        "id": "6ddygdgN-1nj"
      },
      "source": [
        "## Using the data above to predict the top 10 shipping containers\n",
        "\n",
        "*   Effectively, mapping the index to the index of the ship name\n",
        "*   Then Sorting the list via containers amount\n",
        "*   Return top 10 via slicing\n",
        "\n",
        "\n",
        "\n"
      ]
    },
    {
      "cell_type": "markdown",
      "metadata": {
        "id": "uiRwXt5YEi8c"
      },
      "source": [
        "### Making Hashmap of Index to Ship_Name, Predicted_Capactity, Actual_Capacity"
      ]
    },
    {
      "cell_type": "code",
      "execution_count": 64,
      "metadata": {
        "id": "zglHMfjn-z8A"
      },
      "outputs": [],
      "source": [
        "# List of Indexes\n",
        "index_li = list(y_test.index.values)\n",
        "\n",
        "# Hashmap of Key(Index), Values = [ [ship_name], [predicted_capacity], [actual_capacity] ]\n",
        "map_shipping_containers = {}\n",
        "\n",
        "# Mapped Data to Index: Using a Hashmap\n",
        "i = 0\n",
        "for current_index in index_li:\n",
        "  map_shipping_containers[current_index + 1] = [  shipping_df.iloc[current_index,1] , y_pred[i] , shipping_df.iloc[current_index,7]]\n",
        "  i += 1\n",
        "\n",
        "# Displaying the unordered hashmap\n",
        "# print( map_shipping_containers )"
      ]
    },
    {
      "cell_type": "markdown",
      "metadata": {
        "id": "XCd6SqStGPV_"
      },
      "source": [
        "### Sorting Hashmap & Turning into a List\n",
        "*   Sorts based on Predicted_Capacity\n",
        "*   Realised Lists have Slicing which is more useful in this case\n",
        "\n",
        "Using an effective for each loop to basically utilise the sort function to sort the maps index based on the predicted_capacity"
      ]
    },
    {
      "cell_type": "code",
      "execution_count": 65,
      "metadata": {
        "id": "sAAABby8Gm5S"
      },
      "outputs": [],
      "source": [
        "# For each item of the map, sort the map based on the second item\n",
        "# using the in-built sorted() function to perform the sorting based on the items index (Basically a for each loop)\n",
        "def sort_map_predicted_capacity(capacity_map):\n",
        "  return {k: v for k, v in sorted(capacity_map.items(), key=lambda item: item[1][1], reverse=True)}\n",
        "\n",
        "# Looping through each Key Value Pair in Hashmap to make a List\n",
        "# Can't use python slicing on a hashmap\n",
        "def map_to_list(capacity_map):\n",
        "  return [[k] + v for k, v in capacity_map.items()]\n",
        "\n",
        "# Sorting Map & Turning into a List (Can print these out if wanted)\n",
        "ANN_sorted_capacity_map = sort_map_predicted_capacity(map_shipping_containers)\n",
        "ANN_predicted_li = map_to_list(ANN_sorted_capacity_map)"
      ]
    },
    {
      "cell_type": "markdown",
      "metadata": {
        "id": "22I-RVdSLBez"
      },
      "source": [
        "## Top 10 Predicted Capacities Based on Testing Set for ANN Regressor\n",
        "\n",
        "Turned into a pandas df\n",
        "\n",
        "1.   Sliced top 10 items of list\n",
        "2.   Turned it into a Pandas DF And Displayed it\n",
        "\n"
      ]
    },
    {
      "cell_type": "code",
      "execution_count": 66,
      "metadata": {
        "colab": {
          "base_uri": "https://localhost:8080/",
          "height": 381
        },
        "id": "aLkjXjIVLB6H",
        "outputId": "e61ce52d-41da-419b-e775-0392f10e0d48"
      },
      "outputs": [
        {
          "name": "stdout",
          "output_type": "stream",
          "text": [
            "Mean Squared Error: 538746.1037725772\n"
          ]
        },
        {
          "data": {
            "text/html": [
              "\n",
              "  <div id=\"df-7f0e5f09-cbff-4c77-96dd-cef6d8c37b6f\">\n",
              "    <div class=\"colab-df-container\">\n",
              "      <div>\n",
              "<style scoped>\n",
              "    .dataframe tbody tr th:only-of-type {\n",
              "        vertical-align: middle;\n",
              "    }\n",
              "\n",
              "    .dataframe tbody tr th {\n",
              "        vertical-align: top;\n",
              "    }\n",
              "\n",
              "    .dataframe thead th {\n",
              "        text-align: right;\n",
              "    }\n",
              "</style>\n",
              "<table border=\"1\" class=\"dataframe\">\n",
              "  <thead>\n",
              "    <tr style=\"text-align: right;\">\n",
              "      <th></th>\n",
              "      <th>Index</th>\n",
              "      <th>Ship_Name</th>\n",
              "      <th>Predicted_Capacity</th>\n",
              "      <th>Actual_Capacity</th>\n",
              "    </tr>\n",
              "  </thead>\n",
              "  <tbody>\n",
              "    <tr>\n",
              "      <th>0</th>\n",
              "      <td>98</td>\n",
              "      <td>HMM STOCKHOLM</td>\n",
              "      <td>23399.261895</td>\n",
              "      <td>23820</td>\n",
              "    </tr>\n",
              "    <tr>\n",
              "      <th>1</th>\n",
              "      <td>100</td>\n",
              "      <td>COSCO SHIPPING UNIVERSE</td>\n",
              "      <td>21109.394344</td>\n",
              "      <td>21237</td>\n",
              "    </tr>\n",
              "    <tr>\n",
              "      <th>2</th>\n",
              "      <td>91</td>\n",
              "      <td>ONE TRIBUTE</td>\n",
              "      <td>20664.505894</td>\n",
              "      <td>20170</td>\n",
              "    </tr>\n",
              "    <tr>\n",
              "      <th>3</th>\n",
              "      <td>85</td>\n",
              "      <td>AL DAHNA</td>\n",
              "      <td>19297.623948</td>\n",
              "      <td>19870</td>\n",
              "    </tr>\n",
              "    <tr>\n",
              "      <th>4</th>\n",
              "      <td>68</td>\n",
              "      <td>CMA CGM BENJAMIN FRANKLIN</td>\n",
              "      <td>17212.997303</td>\n",
              "      <td>17859</td>\n",
              "    </tr>\n",
              "    <tr>\n",
              "      <th>5</th>\n",
              "      <td>74</td>\n",
              "      <td>CMA CGM MARCO POLO</td>\n",
              "      <td>17112.954620</td>\n",
              "      <td>16022</td>\n",
              "    </tr>\n",
              "    <tr>\n",
              "      <th>6</th>\n",
              "      <td>21</td>\n",
              "      <td>EMMA MAERSK</td>\n",
              "      <td>14963.267707</td>\n",
              "      <td>17816</td>\n",
              "    </tr>\n",
              "    <tr>\n",
              "      <th>7</th>\n",
              "      <td>94</td>\n",
              "      <td>HMM GARAM</td>\n",
              "      <td>14820.147177</td>\n",
              "      <td>16010</td>\n",
              "    </tr>\n",
              "    <tr>\n",
              "      <th>8</th>\n",
              "      <td>75</td>\n",
              "      <td>COSCO FRANCE</td>\n",
              "      <td>14668.193198</td>\n",
              "      <td>13386</td>\n",
              "    </tr>\n",
              "    <tr>\n",
              "      <th>9</th>\n",
              "      <td>69</td>\n",
              "      <td>COSCO SHIPPING HIMALAYAS</td>\n",
              "      <td>14634.279150</td>\n",
              "      <td>14500</td>\n",
              "    </tr>\n",
              "  </tbody>\n",
              "</table>\n",
              "</div>\n",
              "      <button class=\"colab-df-convert\" onclick=\"convertToInteractive('df-7f0e5f09-cbff-4c77-96dd-cef6d8c37b6f')\"\n",
              "              title=\"Convert this dataframe to an interactive table.\"\n",
              "              style=\"display:none;\">\n",
              "        \n",
              "  <svg xmlns=\"http://www.w3.org/2000/svg\" height=\"24px\"viewBox=\"0 0 24 24\"\n",
              "       width=\"24px\">\n",
              "    <path d=\"M0 0h24v24H0V0z\" fill=\"none\"/>\n",
              "    <path d=\"M18.56 5.44l.94 2.06.94-2.06 2.06-.94-2.06-.94-.94-2.06-.94 2.06-2.06.94zm-11 1L8.5 8.5l.94-2.06 2.06-.94-2.06-.94L8.5 2.5l-.94 2.06-2.06.94zm10 10l.94 2.06.94-2.06 2.06-.94-2.06-.94-.94-2.06-.94 2.06-2.06.94z\"/><path d=\"M17.41 7.96l-1.37-1.37c-.4-.4-.92-.59-1.43-.59-.52 0-1.04.2-1.43.59L10.3 9.45l-7.72 7.72c-.78.78-.78 2.05 0 2.83L4 21.41c.39.39.9.59 1.41.59.51 0 1.02-.2 1.41-.59l7.78-7.78 2.81-2.81c.8-.78.8-2.07 0-2.86zM5.41 20L4 18.59l7.72-7.72 1.47 1.35L5.41 20z\"/>\n",
              "  </svg>\n",
              "      </button>\n",
              "      \n",
              "  <style>\n",
              "    .colab-df-container {\n",
              "      display:flex;\n",
              "      flex-wrap:wrap;\n",
              "      gap: 12px;\n",
              "    }\n",
              "\n",
              "    .colab-df-convert {\n",
              "      background-color: #E8F0FE;\n",
              "      border: none;\n",
              "      border-radius: 50%;\n",
              "      cursor: pointer;\n",
              "      display: none;\n",
              "      fill: #1967D2;\n",
              "      height: 32px;\n",
              "      padding: 0 0 0 0;\n",
              "      width: 32px;\n",
              "    }\n",
              "\n",
              "    .colab-df-convert:hover {\n",
              "      background-color: #E2EBFA;\n",
              "      box-shadow: 0px 1px 2px rgba(60, 64, 67, 0.3), 0px 1px 3px 1px rgba(60, 64, 67, 0.15);\n",
              "      fill: #174EA6;\n",
              "    }\n",
              "\n",
              "    [theme=dark] .colab-df-convert {\n",
              "      background-color: #3B4455;\n",
              "      fill: #D2E3FC;\n",
              "    }\n",
              "\n",
              "    [theme=dark] .colab-df-convert:hover {\n",
              "      background-color: #434B5C;\n",
              "      box-shadow: 0px 1px 3px 1px rgba(0, 0, 0, 0.15);\n",
              "      filter: drop-shadow(0px 1px 2px rgba(0, 0, 0, 0.3));\n",
              "      fill: #FFFFFF;\n",
              "    }\n",
              "  </style>\n",
              "\n",
              "      <script>\n",
              "        const buttonEl =\n",
              "          document.querySelector('#df-7f0e5f09-cbff-4c77-96dd-cef6d8c37b6f button.colab-df-convert');\n",
              "        buttonEl.style.display =\n",
              "          google.colab.kernel.accessAllowed ? 'block' : 'none';\n",
              "\n",
              "        async function convertToInteractive(key) {\n",
              "          const element = document.querySelector('#df-7f0e5f09-cbff-4c77-96dd-cef6d8c37b6f');\n",
              "          const dataTable =\n",
              "            await google.colab.kernel.invokeFunction('convertToInteractive',\n",
              "                                                     [key], {});\n",
              "          if (!dataTable) return;\n",
              "\n",
              "          const docLinkHtml = 'Like what you see? Visit the ' +\n",
              "            '<a target=\"_blank\" href=https://colab.research.google.com/notebooks/data_table.ipynb>data table notebook</a>'\n",
              "            + ' to learn more about interactive tables.';\n",
              "          element.innerHTML = '';\n",
              "          dataTable['output_type'] = 'display_data';\n",
              "          await google.colab.output.renderOutput(dataTable, element);\n",
              "          const docLink = document.createElement('div');\n",
              "          docLink.innerHTML = docLinkHtml;\n",
              "          element.appendChild(docLink);\n",
              "        }\n",
              "      </script>\n",
              "    </div>\n",
              "  </div>\n",
              "  "
            ],
            "text/plain": [
              "   Index                  Ship_Name  Predicted_Capacity  Actual_Capacity\n",
              "0     98              HMM STOCKHOLM        23399.261895            23820\n",
              "1    100    COSCO SHIPPING UNIVERSE        21109.394344            21237\n",
              "2     91                ONE TRIBUTE        20664.505894            20170\n",
              "3     85                   AL DAHNA        19297.623948            19870\n",
              "4     68  CMA CGM BENJAMIN FRANKLIN        17212.997303            17859\n",
              "5     74         CMA CGM MARCO POLO        17112.954620            16022\n",
              "6     21                EMMA MAERSK        14963.267707            17816\n",
              "7     94                  HMM GARAM        14820.147177            16010\n",
              "8     75               COSCO FRANCE        14668.193198            13386\n",
              "9     69   COSCO SHIPPING HIMALAYAS        14634.279150            14500"
            ]
          },
          "execution_count": 66,
          "metadata": {},
          "output_type": "execute_result"
        }
      ],
      "source": [
        "# ANN_predicted_li is the predicted capacities as a list\n",
        "# Showing top 10 Predicted Cacities using slicing\n",
        "ANN_Results = pd.DataFrame(ANN_predicted_li[0:10], columns=['Index', 'Ship_Name', 'Predicted_Capacity', 'Actual_Capacity'])\n",
        "\n",
        "print(f\"Mean Squared Error: {mse}\")\n",
        "ANN_Results"
      ]
    },
    {
      "cell_type": "markdown",
      "metadata": {
        "id": "8NxYmUOL6iYd"
      },
      "source": [
        "## Training the Random Forest Regressor"
      ]
    },
    {
      "cell_type": "code",
      "execution_count": 67,
      "metadata": {
        "id": "_Wjphpyr6pNZ"
      },
      "outputs": [],
      "source": [
        "# Calculating the Index to Split based on the 70:30 Split\n",
        "# The full training set/feature matrix is normalised already\n",
        "x_train, x_test, y_train, y_test = train_test_split(feature_matrix_scaled, targets_vector, test_size=0.3)"
      ]
    },
    {
      "cell_type": "code",
      "execution_count": 68,
      "metadata": {
        "id": "maeBozz36l7y"
      },
      "outputs": [],
      "source": [
        "RFR_regressor = RandomForestRegressor(max_depth=5)\n",
        "\n",
        "# t_train Column Vector to Row Vector\n",
        "RFR_regressor.fit(x_train, np.squeeze(y_train))\n",
        "\n",
        "y_pred = RFR_regressor.predict(x_test)\n",
        "\n",
        "mse = mean_squared_error(y_test, y_pred)\n",
        "\n",
        "# print(y_pred)\n",
        "# print(y_test)"
      ]
    },
    {
      "cell_type": "markdown",
      "metadata": {
        "id": "5YtzOkdijQb8"
      },
      "source": [
        "### Displaying top 10 predictions by Hashmap to List"
      ]
    },
    {
      "cell_type": "code",
      "execution_count": 69,
      "metadata": {
        "id": "Uy_nROYvjP0m"
      },
      "outputs": [],
      "source": [
        "# List of Indexes\n",
        "RFR_index_li = list(y_test.index.values)\n",
        "\n",
        "# Hashmap of Key(Index), Values = [ [ship_name], [predicted_capacity], [actual_capacity] ]\n",
        "map_predictions_shipping = {}\n",
        "\n",
        "# Mapped Data to Index: Using a Hashmap\n",
        "i = 0\n",
        "for current_index in RFR_index_li:\n",
        "  map_predictions_shipping[current_index + 1] = [  shipping_df.iloc[current_index,1] , y_pred[i] , shipping_df.iloc[current_index,7]]\n",
        "  i += 1"
      ]
    },
    {
      "cell_type": "markdown",
      "metadata": {
        "id": "Plyh7MhAlzb1"
      },
      "source": [
        "### Turning Hashmap to a list"
      ]
    },
    {
      "cell_type": "code",
      "execution_count": 70,
      "metadata": {
        "id": "zfJ2Duw9lpEg"
      },
      "outputs": [],
      "source": [
        "RFR_sorted_capacity_map = sort_map_predicted_capacity(map_predictions_shipping)\n",
        "RFR_predicted_li = map_to_list(map_predictions_shipping)"
      ]
    },
    {
      "cell_type": "markdown",
      "metadata": {
        "id": "ql0RbbArs2Kl"
      },
      "source": [
        "### Decision Tree Regressor: Displaying top 10 Predicted Capacities by Testing Set (Successful)"
      ]
    },
    {
      "cell_type": "code",
      "execution_count": 71,
      "metadata": {
        "colab": {
          "base_uri": "https://localhost:8080/",
          "height": 381
        },
        "id": "4BDEnNUKs_fY",
        "outputId": "b5bcd4e1-c7f7-41e5-b788-8c86a1bd8089"
      },
      "outputs": [
        {
          "name": "stdout",
          "output_type": "stream",
          "text": [
            "Mean Squared Error: 569655.7966036319\n"
          ]
        },
        {
          "data": {
            "text/html": [
              "\n",
              "  <div id=\"df-f2aa4746-2ea0-4186-bb3f-c700503501be\">\n",
              "    <div class=\"colab-df-container\">\n",
              "      <div>\n",
              "<style scoped>\n",
              "    .dataframe tbody tr th:only-of-type {\n",
              "        vertical-align: middle;\n",
              "    }\n",
              "\n",
              "    .dataframe tbody tr th {\n",
              "        vertical-align: top;\n",
              "    }\n",
              "\n",
              "    .dataframe thead th {\n",
              "        text-align: right;\n",
              "    }\n",
              "</style>\n",
              "<table border=\"1\" class=\"dataframe\">\n",
              "  <thead>\n",
              "    <tr style=\"text-align: right;\">\n",
              "      <th></th>\n",
              "      <th>Index</th>\n",
              "      <th>Ship_Name</th>\n",
              "      <th>Predicted_Capacity</th>\n",
              "      <th>Actual_Capacity</th>\n",
              "    </tr>\n",
              "  </thead>\n",
              "  <tbody>\n",
              "    <tr>\n",
              "      <th>0</th>\n",
              "      <td>98</td>\n",
              "      <td>HMM STOCKHOLM</td>\n",
              "      <td>22759.845333</td>\n",
              "      <td>23820</td>\n",
              "    </tr>\n",
              "    <tr>\n",
              "      <th>1</th>\n",
              "      <td>2</td>\n",
              "      <td>APL CHONGQING</td>\n",
              "      <td>9990.588468</td>\n",
              "      <td>10106</td>\n",
              "    </tr>\n",
              "    <tr>\n",
              "      <th>2</th>\n",
              "      <td>81</td>\n",
              "      <td>ONE GRUS</td>\n",
              "      <td>13658.445048</td>\n",
              "      <td>14052</td>\n",
              "    </tr>\n",
              "    <tr>\n",
              "      <th>3</th>\n",
              "      <td>5</td>\n",
              "      <td>CAMELLIA</td>\n",
              "      <td>2655.529548</td>\n",
              "      <td>2824</td>\n",
              "    </tr>\n",
              "    <tr>\n",
              "      <th>4</th>\n",
              "      <td>31</td>\n",
              "      <td>MOL PRESENCE</td>\n",
              "      <td>6255.824897</td>\n",
              "      <td>6350</td>\n",
              "    </tr>\n",
              "    <tr>\n",
              "      <th>5</th>\n",
              "      <td>4</td>\n",
              "      <td>BREMEN EXPRESS</td>\n",
              "      <td>8480.452417</td>\n",
              "      <td>8749</td>\n",
              "    </tr>\n",
              "    <tr>\n",
              "      <th>6</th>\n",
              "      <td>63</td>\n",
              "      <td>YM EVOLUTION</td>\n",
              "      <td>4688.299554</td>\n",
              "      <td>4662</td>\n",
              "    </tr>\n",
              "    <tr>\n",
              "      <th>7</th>\n",
              "      <td>67</td>\n",
              "      <td>CAP SAN AUGUSTIN</td>\n",
              "      <td>10766.853802</td>\n",
              "      <td>9669</td>\n",
              "    </tr>\n",
              "    <tr>\n",
              "      <th>8</th>\n",
              "      <td>56</td>\n",
              "      <td>NYK REMUS</td>\n",
              "      <td>4858.472202</td>\n",
              "      <td>4888</td>\n",
              "    </tr>\n",
              "    <tr>\n",
              "      <th>9</th>\n",
              "      <td>11</td>\n",
              "      <td>CMA CGM MOZART</td>\n",
              "      <td>5834.857762</td>\n",
              "      <td>5782</td>\n",
              "    </tr>\n",
              "  </tbody>\n",
              "</table>\n",
              "</div>\n",
              "      <button class=\"colab-df-convert\" onclick=\"convertToInteractive('df-f2aa4746-2ea0-4186-bb3f-c700503501be')\"\n",
              "              title=\"Convert this dataframe to an interactive table.\"\n",
              "              style=\"display:none;\">\n",
              "        \n",
              "  <svg xmlns=\"http://www.w3.org/2000/svg\" height=\"24px\"viewBox=\"0 0 24 24\"\n",
              "       width=\"24px\">\n",
              "    <path d=\"M0 0h24v24H0V0z\" fill=\"none\"/>\n",
              "    <path d=\"M18.56 5.44l.94 2.06.94-2.06 2.06-.94-2.06-.94-.94-2.06-.94 2.06-2.06.94zm-11 1L8.5 8.5l.94-2.06 2.06-.94-2.06-.94L8.5 2.5l-.94 2.06-2.06.94zm10 10l.94 2.06.94-2.06 2.06-.94-2.06-.94-.94-2.06-.94 2.06-2.06.94z\"/><path d=\"M17.41 7.96l-1.37-1.37c-.4-.4-.92-.59-1.43-.59-.52 0-1.04.2-1.43.59L10.3 9.45l-7.72 7.72c-.78.78-.78 2.05 0 2.83L4 21.41c.39.39.9.59 1.41.59.51 0 1.02-.2 1.41-.59l7.78-7.78 2.81-2.81c.8-.78.8-2.07 0-2.86zM5.41 20L4 18.59l7.72-7.72 1.47 1.35L5.41 20z\"/>\n",
              "  </svg>\n",
              "      </button>\n",
              "      \n",
              "  <style>\n",
              "    .colab-df-container {\n",
              "      display:flex;\n",
              "      flex-wrap:wrap;\n",
              "      gap: 12px;\n",
              "    }\n",
              "\n",
              "    .colab-df-convert {\n",
              "      background-color: #E8F0FE;\n",
              "      border: none;\n",
              "      border-radius: 50%;\n",
              "      cursor: pointer;\n",
              "      display: none;\n",
              "      fill: #1967D2;\n",
              "      height: 32px;\n",
              "      padding: 0 0 0 0;\n",
              "      width: 32px;\n",
              "    }\n",
              "\n",
              "    .colab-df-convert:hover {\n",
              "      background-color: #E2EBFA;\n",
              "      box-shadow: 0px 1px 2px rgba(60, 64, 67, 0.3), 0px 1px 3px 1px rgba(60, 64, 67, 0.15);\n",
              "      fill: #174EA6;\n",
              "    }\n",
              "\n",
              "    [theme=dark] .colab-df-convert {\n",
              "      background-color: #3B4455;\n",
              "      fill: #D2E3FC;\n",
              "    }\n",
              "\n",
              "    [theme=dark] .colab-df-convert:hover {\n",
              "      background-color: #434B5C;\n",
              "      box-shadow: 0px 1px 3px 1px rgba(0, 0, 0, 0.15);\n",
              "      filter: drop-shadow(0px 1px 2px rgba(0, 0, 0, 0.3));\n",
              "      fill: #FFFFFF;\n",
              "    }\n",
              "  </style>\n",
              "\n",
              "      <script>\n",
              "        const buttonEl =\n",
              "          document.querySelector('#df-f2aa4746-2ea0-4186-bb3f-c700503501be button.colab-df-convert');\n",
              "        buttonEl.style.display =\n",
              "          google.colab.kernel.accessAllowed ? 'block' : 'none';\n",
              "\n",
              "        async function convertToInteractive(key) {\n",
              "          const element = document.querySelector('#df-f2aa4746-2ea0-4186-bb3f-c700503501be');\n",
              "          const dataTable =\n",
              "            await google.colab.kernel.invokeFunction('convertToInteractive',\n",
              "                                                     [key], {});\n",
              "          if (!dataTable) return;\n",
              "\n",
              "          const docLinkHtml = 'Like what you see? Visit the ' +\n",
              "            '<a target=\"_blank\" href=https://colab.research.google.com/notebooks/data_table.ipynb>data table notebook</a>'\n",
              "            + ' to learn more about interactive tables.';\n",
              "          element.innerHTML = '';\n",
              "          dataTable['output_type'] = 'display_data';\n",
              "          await google.colab.output.renderOutput(dataTable, element);\n",
              "          const docLink = document.createElement('div');\n",
              "          docLink.innerHTML = docLinkHtml;\n",
              "          element.appendChild(docLink);\n",
              "        }\n",
              "      </script>\n",
              "    </div>\n",
              "  </div>\n",
              "  "
            ],
            "text/plain": [
              "   Index         Ship_Name  Predicted_Capacity  Actual_Capacity\n",
              "0     98     HMM STOCKHOLM        22759.845333            23820\n",
              "1      2     APL CHONGQING         9990.588468            10106\n",
              "2     81          ONE GRUS        13658.445048            14052\n",
              "3      5          CAMELLIA         2655.529548             2824\n",
              "4     31      MOL PRESENCE         6255.824897             6350\n",
              "5      4    BREMEN EXPRESS         8480.452417             8749\n",
              "6     63      YM EVOLUTION         4688.299554             4662\n",
              "7     67  CAP SAN AUGUSTIN        10766.853802             9669\n",
              "8     56         NYK REMUS         4858.472202             4888\n",
              "9     11    CMA CGM MOZART         5834.857762             5782"
            ]
          },
          "execution_count": 71,
          "metadata": {},
          "output_type": "execute_result"
        }
      ],
      "source": [
        "RFR_results = pd.DataFrame(RFR_predicted_li[0:10], columns=['Index', 'Ship_Name', 'Predicted_Capacity', 'Actual_Capacity'])\n",
        "\n",
        "print(f\"Mean Squared Error: {mse}\")\n",
        "RFR_results"
      ]
    },
    {
      "cell_type": "markdown",
      "metadata": {
        "id": "_NH2Js3FnBCo"
      },
      "source": [
        "## Training the Suport Vector Machine Regresor\n",
        "\n",
        "*   New randomly shuffeled permutation for each model\n",
        "*   Note: Feature matrix is normalised via MinMaxScaler() in the 1.1 Section\n",
        "\n"
      ]
    },
    {
      "cell_type": "code",
      "execution_count": 72,
      "metadata": {
        "id": "ozyanqG3nP9e"
      },
      "outputs": [],
      "source": [
        "# Calculating the Index to Split based on the 70:30 Split\n",
        "# The full training set/feature matrix is normalised already\n",
        "x_train, x_test, y_train, y_test = train_test_split(feature_matrix_scaled, targets_vector, test_size=0.3)"
      ]
    },
    {
      "cell_type": "markdown",
      "metadata": {
        "id": "D97hUbVroaeI"
      },
      "source": [
        "### Fitting & Running the Support Vector Machine Regressor Model\n",
        "I believe the method is correct but there must be an error with the SVR parameters"
      ]
    },
    {
      "cell_type": "code",
      "execution_count": 73,
      "metadata": {
        "id": "Y_h5bSffq1c9"
      },
      "outputs": [],
      "source": [
        "# Instanitiating the SVR Regressor\n",
        "SVR_regressor = SVR()\n",
        "\n",
        "# Looking for Optimal Paramaters using Grid Search with cross-validation to find the best one\n",
        "# Noticed the C is large\n",
        "param_grid = {'C': [1, 10, 100, 1000, 1500, 3000 , 5000, 7000, 10000]}\n",
        "svr_grid_search = GridSearchCV(SVR_regressor, param_grid, cv=20, scoring='neg_mean_squared_error')\n",
        "# Training Model: y_train Column Vector to Row Vector\n",
        "svr_grid_search.fit(x_train, np.squeeze(y_train))\n",
        "\n",
        "svr_y_pred = svr_grid_search.predict(x_test)\n",
        "\n",
        "mse = mean_squared_error(y_test, y_pred)\n",
        "\n",
        "# print(y_test)\n",
        "# print(y_pred)"
      ]
    },
    {
      "cell_type": "code",
      "execution_count": 74,
      "metadata": {
        "id": "MS5TpHnb6ErG"
      },
      "outputs": [],
      "source": [
        "# List of Indexes\n",
        "SVR_index_li = list(y_test.index.values)\n",
        "\n",
        "# Hashmap of Key(Index), Values = [ [ship_name], [predicted_capacity], [actual_capacity] ]\n",
        "map_predictions_shipping = {}\n",
        "\n",
        "# Mapped Data to Index: Using a Hashmap\n",
        "i = 0\n",
        "for current_index in SVR_index_li:\n",
        "  map_predictions_shipping[current_index + 1] = [  shipping_df.iloc[current_index,1] , y_pred[i] , shipping_df.iloc[current_index,7]]\n",
        "  i += 1"
      ]
    },
    {
      "cell_type": "markdown",
      "metadata": {
        "id": "zzcPSuYs933C"
      },
      "source": [
        "### Sorting Hashmap & Turning into a List\n",
        "*   Sorts based on Predicted_Capacity\n",
        "*   Realised Lists have Slicing which is more useful in this case\n",
        "\n",
        "Using an effective for each loop to basically utilise the sort function to sort the maps index based on the predicted_capacity"
      ]
    },
    {
      "cell_type": "code",
      "execution_count": 75,
      "metadata": {
        "id": "MzLNwQDj6Z1r"
      },
      "outputs": [],
      "source": [
        "SVR_sorted_capacity_map = sort_map_predicted_capacity(map_predictions_shipping)\n",
        "SVR_predicted_li = map_to_list(map_predictions_shipping)"
      ]
    },
    {
      "cell_type": "markdown",
      "metadata": {
        "id": "bWEIrIUl7eYD"
      },
      "source": [
        "## Support Vector Regressor: Predicting Top 10 Ships by Capacity of Testing Set\n",
        "\n",
        "SVR_predicted_li is the full list of predictions. Using Slicing to Predict top 10."
      ]
    },
    {
      "cell_type": "code",
      "execution_count": 76,
      "metadata": {
        "colab": {
          "base_uri": "https://localhost:8080/",
          "height": 381
        },
        "id": "16ucIsh_7d4x",
        "outputId": "60485463-b8a9-4a07-8464-a0dcfe0372c6"
      },
      "outputs": [
        {
          "name": "stdout",
          "output_type": "stream",
          "text": [
            "Mean Squared Error: 66346764.15570302\n"
          ]
        },
        {
          "data": {
            "text/html": [
              "\n",
              "  <div id=\"df-90a3b56d-4258-4ebe-9dd5-be497fe05b98\">\n",
              "    <div class=\"colab-df-container\">\n",
              "      <div>\n",
              "<style scoped>\n",
              "    .dataframe tbody tr th:only-of-type {\n",
              "        vertical-align: middle;\n",
              "    }\n",
              "\n",
              "    .dataframe tbody tr th {\n",
              "        vertical-align: top;\n",
              "    }\n",
              "\n",
              "    .dataframe thead th {\n",
              "        text-align: right;\n",
              "    }\n",
              "</style>\n",
              "<table border=\"1\" class=\"dataframe\">\n",
              "  <thead>\n",
              "    <tr style=\"text-align: right;\">\n",
              "      <th></th>\n",
              "      <th>Index</th>\n",
              "      <th>Ship_Name</th>\n",
              "      <th>Predicted_Capacity</th>\n",
              "      <th>Actual_Capacity</th>\n",
              "    </tr>\n",
              "  </thead>\n",
              "  <tbody>\n",
              "    <tr>\n",
              "      <th>0</th>\n",
              "      <td>40</td>\n",
              "      <td>MSC DYMPHNA</td>\n",
              "      <td>22759.845333</td>\n",
              "      <td>5711</td>\n",
              "    </tr>\n",
              "    <tr>\n",
              "      <th>1</th>\n",
              "      <td>9</td>\n",
              "      <td>CMA CGM LA TRAVIATA</td>\n",
              "      <td>9990.588468</td>\n",
              "      <td>8488</td>\n",
              "    </tr>\n",
              "    <tr>\n",
              "      <th>2</th>\n",
              "      <td>94</td>\n",
              "      <td>HMM GARAM</td>\n",
              "      <td>13658.445048</td>\n",
              "      <td>16010</td>\n",
              "    </tr>\n",
              "    <tr>\n",
              "      <th>3</th>\n",
              "      <td>23</td>\n",
              "      <td>MAERSK GENOA</td>\n",
              "      <td>2655.529548</td>\n",
              "      <td>10100</td>\n",
              "    </tr>\n",
              "    <tr>\n",
              "      <th>4</th>\n",
              "      <td>72</td>\n",
              "      <td>ANTWERPEN EXPRESS</td>\n",
              "      <td>6255.824897</td>\n",
              "      <td>13167</td>\n",
              "    </tr>\n",
              "    <tr>\n",
              "      <th>5</th>\n",
              "      <td>30</td>\n",
              "      <td>MOL PRECISION</td>\n",
              "      <td>8480.452417</td>\n",
              "      <td>6350</td>\n",
              "    </tr>\n",
              "    <tr>\n",
              "      <th>6</th>\n",
              "      <td>27</td>\n",
              "      <td>MOL BRILLIANCE</td>\n",
              "      <td>4688.299554</td>\n",
              "      <td>10100</td>\n",
              "    </tr>\n",
              "    <tr>\n",
              "      <th>7</th>\n",
              "      <td>71</td>\n",
              "      <td>AL MASHRAB</td>\n",
              "      <td>10766.853802</td>\n",
              "      <td>15000</td>\n",
              "    </tr>\n",
              "    <tr>\n",
              "      <th>8</th>\n",
              "      <td>6</td>\n",
              "      <td>CAP HARRISSON</td>\n",
              "      <td>4858.472202</td>\n",
              "      <td>4255</td>\n",
              "    </tr>\n",
              "    <tr>\n",
              "      <th>9</th>\n",
              "      <td>51</td>\n",
              "      <td>MSC TOKYO</td>\n",
              "      <td>5834.857762</td>\n",
              "      <td>5606</td>\n",
              "    </tr>\n",
              "  </tbody>\n",
              "</table>\n",
              "</div>\n",
              "      <button class=\"colab-df-convert\" onclick=\"convertToInteractive('df-90a3b56d-4258-4ebe-9dd5-be497fe05b98')\"\n",
              "              title=\"Convert this dataframe to an interactive table.\"\n",
              "              style=\"display:none;\">\n",
              "        \n",
              "  <svg xmlns=\"http://www.w3.org/2000/svg\" height=\"24px\"viewBox=\"0 0 24 24\"\n",
              "       width=\"24px\">\n",
              "    <path d=\"M0 0h24v24H0V0z\" fill=\"none\"/>\n",
              "    <path d=\"M18.56 5.44l.94 2.06.94-2.06 2.06-.94-2.06-.94-.94-2.06-.94 2.06-2.06.94zm-11 1L8.5 8.5l.94-2.06 2.06-.94-2.06-.94L8.5 2.5l-.94 2.06-2.06.94zm10 10l.94 2.06.94-2.06 2.06-.94-2.06-.94-.94-2.06-.94 2.06-2.06.94z\"/><path d=\"M17.41 7.96l-1.37-1.37c-.4-.4-.92-.59-1.43-.59-.52 0-1.04.2-1.43.59L10.3 9.45l-7.72 7.72c-.78.78-.78 2.05 0 2.83L4 21.41c.39.39.9.59 1.41.59.51 0 1.02-.2 1.41-.59l7.78-7.78 2.81-2.81c.8-.78.8-2.07 0-2.86zM5.41 20L4 18.59l7.72-7.72 1.47 1.35L5.41 20z\"/>\n",
              "  </svg>\n",
              "      </button>\n",
              "      \n",
              "  <style>\n",
              "    .colab-df-container {\n",
              "      display:flex;\n",
              "      flex-wrap:wrap;\n",
              "      gap: 12px;\n",
              "    }\n",
              "\n",
              "    .colab-df-convert {\n",
              "      background-color: #E8F0FE;\n",
              "      border: none;\n",
              "      border-radius: 50%;\n",
              "      cursor: pointer;\n",
              "      display: none;\n",
              "      fill: #1967D2;\n",
              "      height: 32px;\n",
              "      padding: 0 0 0 0;\n",
              "      width: 32px;\n",
              "    }\n",
              "\n",
              "    .colab-df-convert:hover {\n",
              "      background-color: #E2EBFA;\n",
              "      box-shadow: 0px 1px 2px rgba(60, 64, 67, 0.3), 0px 1px 3px 1px rgba(60, 64, 67, 0.15);\n",
              "      fill: #174EA6;\n",
              "    }\n",
              "\n",
              "    [theme=dark] .colab-df-convert {\n",
              "      background-color: #3B4455;\n",
              "      fill: #D2E3FC;\n",
              "    }\n",
              "\n",
              "    [theme=dark] .colab-df-convert:hover {\n",
              "      background-color: #434B5C;\n",
              "      box-shadow: 0px 1px 3px 1px rgba(0, 0, 0, 0.15);\n",
              "      filter: drop-shadow(0px 1px 2px rgba(0, 0, 0, 0.3));\n",
              "      fill: #FFFFFF;\n",
              "    }\n",
              "  </style>\n",
              "\n",
              "      <script>\n",
              "        const buttonEl =\n",
              "          document.querySelector('#df-90a3b56d-4258-4ebe-9dd5-be497fe05b98 button.colab-df-convert');\n",
              "        buttonEl.style.display =\n",
              "          google.colab.kernel.accessAllowed ? 'block' : 'none';\n",
              "\n",
              "        async function convertToInteractive(key) {\n",
              "          const element = document.querySelector('#df-90a3b56d-4258-4ebe-9dd5-be497fe05b98');\n",
              "          const dataTable =\n",
              "            await google.colab.kernel.invokeFunction('convertToInteractive',\n",
              "                                                     [key], {});\n",
              "          if (!dataTable) return;\n",
              "\n",
              "          const docLinkHtml = 'Like what you see? Visit the ' +\n",
              "            '<a target=\"_blank\" href=https://colab.research.google.com/notebooks/data_table.ipynb>data table notebook</a>'\n",
              "            + ' to learn more about interactive tables.';\n",
              "          element.innerHTML = '';\n",
              "          dataTable['output_type'] = 'display_data';\n",
              "          await google.colab.output.renderOutput(dataTable, element);\n",
              "          const docLink = document.createElement('div');\n",
              "          docLink.innerHTML = docLinkHtml;\n",
              "          element.appendChild(docLink);\n",
              "        }\n",
              "      </script>\n",
              "    </div>\n",
              "  </div>\n",
              "  "
            ],
            "text/plain": [
              "   Index            Ship_Name  Predicted_Capacity  Actual_Capacity\n",
              "0     40          MSC DYMPHNA        22759.845333             5711\n",
              "1      9  CMA CGM LA TRAVIATA         9990.588468             8488\n",
              "2     94            HMM GARAM        13658.445048            16010\n",
              "3     23         MAERSK GENOA         2655.529548            10100\n",
              "4     72    ANTWERPEN EXPRESS         6255.824897            13167\n",
              "5     30        MOL PRECISION         8480.452417             6350\n",
              "6     27       MOL BRILLIANCE         4688.299554            10100\n",
              "7     71           AL MASHRAB        10766.853802            15000\n",
              "8      6        CAP HARRISSON         4858.472202             4255\n",
              "9     51            MSC TOKYO         5834.857762             5606"
            ]
          },
          "execution_count": 76,
          "metadata": {},
          "output_type": "execute_result"
        }
      ],
      "source": [
        "SVR_Results = pd.DataFrame(SVR_predicted_li[0:10], columns=['Index', 'Ship_Name', 'Predicted_Capacity', 'Actual_Capacity'])\n",
        "\n",
        "print(f\"Mean Squared Error: {mse}\")\n",
        "SVR_Results"
      ]
    },
    {
      "cell_type": "markdown",
      "metadata": {
        "id": "2N60Mk9F-wRY"
      },
      "source": [
        "# Assesment of Regression\n",
        "\n",
        "*   ANN: Cross Validated 10 folds (eta 14 mins on colab)\n",
        "*   DTR: Cross Validated 10 folds (eta less than 5)\n",
        "*   SVR: Cross Validated 10 folds (eta less than 10 sec)\n",
        "\n",
        "\n"
      ]
    },
    {
      "cell_type": "code",
      "execution_count": 84,
      "metadata": {
        "colab": {
          "base_uri": "https://localhost:8080/"
        },
        "id": "fUBtu6swUe6U",
        "outputId": "f74ec859-7a54-44c2-dab7-0800919a0555"
      },
      "outputs": [
        {
          "name": "stderr",
          "output_type": "stream",
          "text": [
            "/usr/local/lib/python3.10/dist-packages/sklearn/neural_network/_multilayer_perceptron.py:686: ConvergenceWarning: Stochastic Optimizer: Maximum iterations (55000) reached and the optimization hasn't converged yet.\n",
            "  warnings.warn(\n",
            "/usr/local/lib/python3.10/dist-packages/sklearn/neural_network/_multilayer_perceptron.py:686: ConvergenceWarning: Stochastic Optimizer: Maximum iterations (55000) reached and the optimization hasn't converged yet.\n",
            "  warnings.warn(\n",
            "/usr/local/lib/python3.10/dist-packages/sklearn/neural_network/_multilayer_perceptron.py:686: ConvergenceWarning: Stochastic Optimizer: Maximum iterations (55000) reached and the optimization hasn't converged yet.\n",
            "  warnings.warn(\n",
            "/usr/local/lib/python3.10/dist-packages/sklearn/neural_network/_multilayer_perceptron.py:686: ConvergenceWarning: Stochastic Optimizer: Maximum iterations (55000) reached and the optimization hasn't converged yet.\n",
            "  warnings.warn(\n",
            "/usr/local/lib/python3.10/dist-packages/sklearn/neural_network/_multilayer_perceptron.py:686: ConvergenceWarning: Stochastic Optimizer: Maximum iterations (55000) reached and the optimization hasn't converged yet.\n",
            "  warnings.warn(\n",
            "/usr/local/lib/python3.10/dist-packages/sklearn/neural_network/_multilayer_perceptron.py:686: ConvergenceWarning: Stochastic Optimizer: Maximum iterations (55000) reached and the optimization hasn't converged yet.\n",
            "  warnings.warn(\n",
            "/usr/local/lib/python3.10/dist-packages/sklearn/neural_network/_multilayer_perceptron.py:686: ConvergenceWarning: Stochastic Optimizer: Maximum iterations (55000) reached and the optimization hasn't converged yet.\n",
            "  warnings.warn(\n",
            "/usr/local/lib/python3.10/dist-packages/sklearn/neural_network/_multilayer_perceptron.py:686: ConvergenceWarning: Stochastic Optimizer: Maximum iterations (55000) reached and the optimization hasn't converged yet.\n",
            "  warnings.warn(\n",
            "/usr/local/lib/python3.10/dist-packages/sklearn/neural_network/_multilayer_perceptron.py:686: ConvergenceWarning: Stochastic Optimizer: Maximum iterations (55000) reached and the optimization hasn't converged yet.\n",
            "  warnings.warn(\n",
            "/usr/local/lib/python3.10/dist-packages/sklearn/neural_network/_multilayer_perceptron.py:686: ConvergenceWarning: Stochastic Optimizer: Maximum iterations (55000) reached and the optimization hasn't converged yet.\n",
            "  warnings.warn(\n",
            "/usr/local/lib/python3.10/dist-packages/sklearn/neural_network/_multilayer_perceptron.py:686: ConvergenceWarning: Stochastic Optimizer: Maximum iterations (55000) reached and the optimization hasn't converged yet.\n",
            "  warnings.warn(\n",
            "/usr/local/lib/python3.10/dist-packages/sklearn/neural_network/_multilayer_perceptron.py:686: ConvergenceWarning: Stochastic Optimizer: Maximum iterations (55000) reached and the optimization hasn't converged yet.\n",
            "  warnings.warn(\n",
            "/usr/local/lib/python3.10/dist-packages/sklearn/neural_network/_multilayer_perceptron.py:686: ConvergenceWarning: Stochastic Optimizer: Maximum iterations (55000) reached and the optimization hasn't converged yet.\n",
            "  warnings.warn(\n",
            "/usr/local/lib/python3.10/dist-packages/sklearn/neural_network/_multilayer_perceptron.py:686: ConvergenceWarning: Stochastic Optimizer: Maximum iterations (55000) reached and the optimization hasn't converged yet.\n",
            "  warnings.warn(\n",
            "/usr/local/lib/python3.10/dist-packages/sklearn/neural_network/_multilayer_perceptron.py:686: ConvergenceWarning: Stochastic Optimizer: Maximum iterations (55000) reached and the optimization hasn't converged yet.\n",
            "  warnings.warn(\n",
            "/usr/local/lib/python3.10/dist-packages/sklearn/neural_network/_multilayer_perceptron.py:686: ConvergenceWarning: Stochastic Optimizer: Maximum iterations (55000) reached and the optimization hasn't converged yet.\n",
            "  warnings.warn(\n",
            "/usr/local/lib/python3.10/dist-packages/sklearn/neural_network/_multilayer_perceptron.py:686: ConvergenceWarning: Stochastic Optimizer: Maximum iterations (55000) reached and the optimization hasn't converged yet.\n",
            "  warnings.warn(\n",
            "/usr/local/lib/python3.10/dist-packages/sklearn/neural_network/_multilayer_perceptron.py:686: ConvergenceWarning: Stochastic Optimizer: Maximum iterations (55000) reached and the optimization hasn't converged yet.\n",
            "  warnings.warn(\n",
            "/usr/local/lib/python3.10/dist-packages/sklearn/neural_network/_multilayer_perceptron.py:686: ConvergenceWarning: Stochastic Optimizer: Maximum iterations (55000) reached and the optimization hasn't converged yet.\n",
            "  warnings.warn(\n"
          ]
        }
      ],
      "source": [
        "ANN_test_valid = abs(cross_val_score(ANN_regressor, x_test, np.squeeze(y_test), cv=10, scoring='neg_mean_squared_error'))\n",
        "ANN_train_valid = abs(cross_val_score(ANN_regressor, x_train, np.squeeze(y_train), cv=10, scoring='neg_mean_squared_error'))"
      ]
    },
    {
      "cell_type": "code",
      "execution_count": 77,
      "metadata": {
        "id": "E8AgkuGdPxAl"
      },
      "outputs": [],
      "source": [
        "# Abs used to turn negative to positve MSE\n",
        "RFR_test_valid = abs(cross_val_score(RFR_regressor, x_test, np.squeeze(y_test), cv=10, scoring='neg_mean_squared_error'))\n",
        "RFR_train_valid = abs(cross_val_score(RFR_regressor, x_train, np.squeeze(y_train), cv=10, scoring='neg_mean_squared_error'))"
      ]
    },
    {
      "cell_type": "code",
      "execution_count": 78,
      "metadata": {
        "id": "hq8FpykiYcuD"
      },
      "outputs": [],
      "source": [
        "# Abs used to turn negative to positve MSE\n",
        "SVR_test_valid = abs(cross_val_score(svr_grid_search, x_test, np.squeeze(y_test), cv=10, scoring='neg_mean_squared_error'))\n",
        "SVR_train_valid = abs(cross_val_score(svr_grid_search, x_train, np.squeeze(y_train), cv=10, scoring='neg_mean_squared_error'))"
      ]
    },
    {
      "cell_type": "markdown",
      "metadata": {
        "id": "0o5csVKTe0X1"
      },
      "source": [
        "# Cross Validation: Artificial Neural Network"
      ]
    },
    {
      "cell_type": "code",
      "execution_count": 85,
      "metadata": {
        "colab": {
          "base_uri": "https://localhost:8080/",
          "height": 452
        },
        "id": "0_vRnLVee9Jj",
        "outputId": "bdc4b328-ae30-4037-c636-854b3422cd8e"
      },
      "outputs": [
        {
          "data": {
            "image/png": "[encoded data removed]",
            "text/plain": [
              "<Figure size 640x480 with 1 Axes>"
            ]
          },
          "metadata": {},
          "output_type": "display_data"
        }
      ],
      "source": [
        "# Box Plots: Labels & Colours (Must be equal to number of box plots)\n",
        "labels = [\"Training Accuracy\", \"Testing Accuracy\"] \n",
        "colors = [\"lightblue\", \"lightgreen\"]\n",
        "\n",
        "fig, ax = plt.subplots()\n",
        "\n",
        "# Mapping the Lists of MSE into the Box Plots\n",
        "boxes = ax.boxplot([ANN_train_valid, ANN_test_valid], patch_artist=True, boxprops=dict(facecolor=\"white\"))\n",
        "\n",
        "# Filling Each Box in the Boxplots with the colour if that index\n",
        "for i, box in enumerate(boxes[\"boxes\"]):\n",
        "    box.set(facecolor=colors[i])\n",
        "\n",
        "# Labelling Title and Y Axis\n",
        "ax.set_xticklabels(labels)\n",
        "ax.set_title(\"ANN Cross Validation\")\n",
        "ax.set_ylabel(\"MSE\")\n",
        "\n",
        "# Defining a Legend at top top left\n",
        "# Note: \"boxes\" refers to our boxes object containing all of our box plots\n",
        "legend = ax.legend(boxes[\"boxes\"], labels, loc=\"upper left\")\n",
        "\n",
        "plt.show()"
      ]
    },
    {
      "cell_type": "code",
      "execution_count": 79,
      "metadata": {
        "colab": {
          "base_uri": "https://localhost:8080/",
          "height": 452
        },
        "id": "oexMneR_nVCb",
        "outputId": "307ed5e9-e452-4a05-a28b-62efa17ef507"
      },
      "outputs": [
        {
          "data": {
            "image/png": "[encoded data removed]",
            "text/plain": [
              "<Figure size 640x480 with 1 Axes>"
            ]
          },
          "metadata": {},
          "output_type": "display_data"
        }
      ],
      "source": [
        "# Box Plots: Labels & Colours (Must be equal to number of box plots)\n",
        "labels = [\"Training Accuracy\", \"Testing Accuracy\"] \n",
        "colors = [\"pink\", \"black\"]\n",
        "\n",
        "fig, ax = plt.subplots()\n",
        "\n",
        "boxes = ax.boxplot([RFR_train_valid, RFR_test_valid], patch_artist=True, boxprops=dict(facecolor=\"white\"))\n",
        "\n",
        "# Fill Each box with the color in the color array\n",
        "for i, box in enumerate(boxes[\"boxes\"]):\n",
        "    box.set(facecolor=colors[i])\n",
        "\n",
        "# Title and X Labels\n",
        "ax.set_xticklabels(labels)\n",
        "ax.set_title(\"Random Forest: Cross Validation\")\n",
        "ax.set_ylabel(\"MSE\")\n",
        "\n",
        "# Legend top Left\n",
        "# Note: \"boxes\" refers to our boxes object containing our box plots\n",
        "legend = ax.legend(boxes[\"boxes\"], labels, loc=\"upper left\")\n",
        "\n",
        "plt.show()"
      ]
    },
    {
      "cell_type": "code",
      "execution_count": 81,
      "metadata": {
        "colab": {
          "base_uri": "https://localhost:8080/",
          "height": 452
        },
        "id": "-IvGbNt284o7",
        "outputId": "1c01f4dd-4fdb-47c8-bfc7-418e801deb61"
      },
      "outputs": [
        {
          "data": {
            "image/png": "[encoded data removed]",
            "text/plain": [
              "<Figure size 640x480 with 1 Axes>"
            ]
          },
          "metadata": {},
          "output_type": "display_data"
        }
      ],
      "source": [
        "# Box Plots: Labels & Colors (Must be equal to number of box plots)\n",
        "labels = [\"Training Accuracy\", \"Testing Accuracy\"] \n",
        "colors = [\"purple\", \"grey\"]\n",
        "\n",
        "fig, ax = plt.subplots()\n",
        "\n",
        "boxes = ax.boxplot([SVR_train_valid, SVR_test_valid], patch_artist=True, boxprops=dict(facecolor=\"white\"))\n",
        "\n",
        "# Filling Each box in the box plots object\n",
        "for i, box in enumerate(boxes[\"boxes\"]):\n",
        "    box.set(facecolor=colors[i])\n",
        "\n",
        "# Title and X Labels\n",
        "ax.set_xticklabels(labels)\n",
        "ax.set_title(\"SVR: Cross Validation\")\n",
        "ax.set_ylabel(\"MSE\")\n",
        "\n",
        "# Legend top Left\n",
        "# Note: \"boxes\" refers to our boxes object containing our box plots\n",
        "legend = ax.legend(boxes[\"boxes\"], labels, loc=\"upper left\")\n",
        "\n",
        "plt.show()"
      ]
    },
    {
      "cell_type": "markdown",
      "metadata": {
        "id": "76mcyKEOpYch"
      },
      "source": [
        "### Comparing all 3 Models"
      ]
    },
    {
      "cell_type": "code",
      "execution_count": 86,
      "metadata": {
        "colab": {
          "base_uri": "https://localhost:8080/",
          "height": 439
        },
        "id": "K0MsurFspac6",
        "outputId": "4169d56e-696c-4770-ca1a-0d06c72afec4"
      },
      "outputs": [
        {
          "data": {
            "image/png": "[encoded data removed]",
            "text/plain": [
              "<Figure size 1300x500 with 1 Axes>"
            ]
          },
          "metadata": {},
          "output_type": "display_data"
        }
      ],
      "source": [
        "# Box Plots: Labels & Colors (Must be equal to number of box plots)\n",
        "labels = [\"ANN Training Accuracy\", \"ANN Testing Accuracy\", \"RFR Training Accuracy\", \"RFR Testing Accuracy\", \"SVR Training Accuracy\", \"SVR Testing Accuracy\"] \n",
        "colors = [\"lightblue\", \"lightgreen\", \"pink\", \"black\", \"purple\", \"grey\"]\n",
        "\n",
        "fig, ax = plt.subplots(figsize=(13, 5))\n",
        "\n",
        "boxes = ax.boxplot([ANN_train_valid, ANN_test_valid, RFR_train_valid, RFR_test_valid, SVR_train_valid, SVR_test_valid], patch_artist=True, boxprops=dict(facecolor=\"white\"))\n",
        "\n",
        "# Filling Each box in the box plots object\n",
        "for i, box in enumerate(boxes[\"boxes\"]):\n",
        "    box.set(facecolor=colors[i])\n",
        "\n",
        "# Title and X Labels\n",
        "ax.set_xticklabels(labels)\n",
        "ax.set_title(\"All Models: Cross Validation\")\n",
        "ax.set_ylabel(\"MSE\")\n",
        "\n",
        "# Legend at top Left\n",
        "# Note: \"boxes\" refers to our boxes object containing our box plots\n",
        "legend = ax.legend(boxes[\"boxes\"], labels, loc=\"upper left\")\n",
        "\n",
        "plt.show()"
      ]
    },
    {
      "cell_type": "markdown",
      "metadata": {
        "id": "9N_MtbioRDY1"
      },
      "source": [
        "# Part 2: Optimisation"
      ]
    },
    {
      "cell_type": "markdown",
      "metadata": {
        "id": "s-RoltQiRJM8"
      },
      "source": [
        "## 2.1 Generation of Random Results"
      ]
    },
    {
      "cell_type": "markdown",
      "metadata": {
        "id": "DWVMwR5CTuou"
      },
      "source": [
        "Distances holds 12 locations and distances to each location. 12 x 12 matrix.\n",
        "\n",
        "The problem\n",
        "\n",
        "*   3 Routes with Pick 4 locations/Nodes. We are trying to minimise \n",
        "\n",
        "\n",
        "Note: Only I Am only concerned about 1 half, above the diagonal of zeros"
      ]
    },
    {
      "cell_type": "code",
      "execution_count": 87,
      "metadata": {
        "id": "ynrCTHLgSVBd"
      },
      "outputs": [],
      "source": [
        "# Gave each Node a name. Each Integer is a Node.\n",
        "distances_cols = [\"0\", \"1\", \"2\", \"3\", \"4\", \"5\", \"6\", \"7\", \"8\", \"9\", \"10\", \"11\"] \n",
        "\n",
        "#12x12 matrix of distances\n",
        "distances_df = pd.read_csv(\"distances.csv\", names = distances_cols)"
      ]
    },
    {
      "cell_type": "code",
      "execution_count": 88,
      "metadata": {
        "id": "fxVF8fNiYXmq"
      },
      "outputs": [],
      "source": [
        "# Numpy Array of the Adjacency List\n",
        "np_distance_arr = distances_df.to_numpy()"
      ]
    },
    {
      "cell_type": "markdown",
      "metadata": {
        "id": "o_cy9IWAkV9E"
      },
      "source": [
        "### Fitness Function\n",
        "### **fitness_function_full_dist()**\n",
        "\n",
        "The fitness function is the sum of the total distance of all three routes\n",
        "\n",
        "Look the hill_climber class for the fitness_function_full_dist()\n",
        "\n"
      ]
    },
    {
      "cell_type": "markdown",
      "metadata": {
        "id": "-KFs0xSI-lEC"
      },
      "source": [
        "## 2.2 Algorithm Implementation\n",
        "\n",
        "*   We are looking for a solution of 4 nodes from 0 - 11 (12 tot)\n",
        "*   We need 3 Solutions\n",
        "*   The final/most optimal solution is the same length/fitness\n",
        "*   Optimal solution doesn not have a repeating node in any of the 3 arrays\n",
        "\n"
      ]
    },
    {
      "cell_type": "markdown",
      "metadata": {
        "id": "zu2LYgb07NWa"
      },
      "source": [
        "### GA: Genetic Mutations\n",
        "\n",
        "Nitr: Number of Iterations/Generations\n",
        "\n",
        "Each function will be it's own hill climber"
      ]
    },
    {
      "cell_type": "code",
      "execution_count": 89,
      "metadata": {
        "id": "TFknUIEJCu-K"
      },
      "outputs": [],
      "source": [
        "class hill_climber():\n",
        "  # Nitr: Num Iterations/Generations\n",
        "  # select_hill_climber: Pick option 1.\"ruin\", 2. \"swap\", 3. \"shuffle\" (Must be exact)\n",
        "  def __init__(self, np_distances, nitr, select_hill_climber):\n",
        "    self.np_distances = np_distances\n",
        "    self.select_hill_climber = select_hill_climber\n",
        "    \n",
        "    # All Routes Found\n",
        "    self.archive = []\n",
        "\n",
        "    # Lists of Worst, Mean, Avg\n",
        "    self.fitness_scores = [] # Holds all fitness: Used for calculatios\n",
        "    self.worst_fitness = []\n",
        "    self.mean_fitness = []\n",
        "    self.best_fitness = []\n",
        "\n",
        "    # Current Route: Random Solution\n",
        "    # Initial Route: 2D array, Each Array inside is 4 long and is a new route\n",
        "    # E.g [  [N0, N1, N2, N3] ,  [N4, N5, N6, N7], [N8, N9, N10, N11]]\n",
        "    self.current_route = [] # Best Route Known\n",
        "\n",
        "    self.init_first_route() # Current Route Initialised\n",
        "\n",
        "    if select_hill_climber == \"ruin\":\n",
        "      self.ruin_and_recreate(nitr)\n",
        "    elif select_hill_climber == \"swap\":\n",
        "      self.swap(nitr)\n",
        "    elif select_hill_climber == \"shuffle\":\n",
        "      self.shuffle(nitr)\n",
        "    else:\n",
        "      print(\"Error: Must Select Either swap, shuffle, ruin\")\n",
        "  \n",
        "  # Added to archive\n",
        "  def init_first_route(self):\n",
        "    items_added = []\n",
        "\n",
        "    for i in range(3):\n",
        "      current_row = []\n",
        "      for j in range(4):\n",
        "        rnd_item = random.randint(0, 11)\n",
        "        # Loops until unique: Can't have a repeat of a node\n",
        "        while rnd_item in items_added:\n",
        "          rnd_item = random.randint(0, 11)\n",
        "        current_row.append(rnd_item)\n",
        "        items_added.append(rnd_item)\n",
        "\n",
        "      # First Route Initialised\n",
        "      self.current_route.append(current_row)\n",
        "\n",
        "\n",
        "    # Adding First, Best, Mean & Worst by default\n",
        "    fitness = self.fitness_function_full_dist(self.current_route)\n",
        "    self.fitness_scores.append(fitness)\n",
        "    self.mean_fitness.append(fitness)\n",
        "    self.worst_fitness.append(fitness)\n",
        "    self.best_fitness.append(fitness)\n",
        "    \n",
        "    # Adding to Archive\n",
        "    self.archive.append(self.current_route)\n",
        "\n",
        "  ############### Mutation Behaviours ########################\n",
        "\n",
        "  def ruin_and_recreate(self, nitr):\n",
        "    while nitr != 0:\n",
        "      # Last Item Added is Previous\n",
        "      archive_last_item = self.archive[-1]\n",
        "\n",
        "      # Initialising the Fitness\n",
        "      prev_fitness = self.fitness_function_full_dist(archive_last_item)\n",
        "      \n",
        "      # Recreate the full route\n",
        "      temp = [] # New 2D array\n",
        "\n",
        "      items_added = []\n",
        "      for i in range(3):\n",
        "        current_row = []\n",
        "        for j in range(4):\n",
        "          rnd_item = random.randint(0, 11)\n",
        "          # Loops until unique: Can't have a repeat of a node\n",
        "          while rnd_item in items_added:\n",
        "            rnd_item = random.randint(0, 11)\n",
        "          current_row.append(rnd_item)\n",
        "          items_added.append(rnd_item)\n",
        "        # Building temp route\n",
        "        temp.append(current_row)\n",
        "\n",
        "      # Compare fitness of current to previous\n",
        "      current_fitness = self.fitness_function_full_dist(temp)\n",
        "\n",
        "\n",
        "      # Keep the best 1: Minimising\n",
        "      # Only Adding to Archive Best Better Solutions\n",
        "      if current_fitness < prev_fitness:\n",
        "        self.current_route = temp\n",
        "        self.archive.append(self.current_route)\n",
        "        self.best_fitness.append(current_fitness)\n",
        "      # Not better than the best known\n",
        "      # Making the best of this iter equal the last best\n",
        "      else:\n",
        "        self.best_fitness.append(self.best_fitness[-1])\n",
        "\n",
        "      # For Everything\n",
        "      self.mean_fitness.append(np.mean(self.fitness_scores))\n",
        "\n",
        "      # Check if it's the worst known so far\n",
        "      if current_fitness > max(self.fitness_scores):\n",
        "        self.worst_fitness.append(current_fitness)\n",
        "      else:\n",
        "        self.worst_fitness.append(self.worst_fitness[-1])\n",
        "\n",
        "      self.fitness_scores.append(current_fitness)\n",
        "\n",
        "      # print(f\"Current Best Route: {self.current_route}\")\n",
        "      # print(f\"Temp/Current Route: {temp}\")\n",
        "      # print(f\"Temp/Current Fitness: {current_fitness},  Prev/Best Fitness: {prev_fitness}\")\n",
        "\n",
        "      nitr -= 1\n",
        "\n",
        "\n",
        "  # Picks two random locations and then replaces 2 in in the solution.\n",
        "  # Will keep the best 2. Swap The Bad two Nodes.\n",
        "  # Basically popped out the biggest 4 nodes. Grabbed 2 rand locations. Replace 2 of those nodes randomly.\n",
        "  def swap(self, nitr):\n",
        "    while nitr != 0:\n",
        "      prev_fitness = self.fitness_function_full_dist(self.current_route)\n",
        "      temp_route = []\n",
        "      \n",
        "      dist1 = self.single_route_dist(self.current_route[0])\n",
        "      dist2 = self.single_route_dist(self.current_route[1])\n",
        "      dist3 = self.single_route_dist(self.current_route[2])\n",
        "\n",
        "      nodes_popped = []\n",
        "\n",
        "      # Trying to pick biggest value\n",
        "      if (dist1 > dist2 and dist1 > dist3):\n",
        "        # Nodes of other routes\n",
        "        nodes_present = self.current_route.copy()\n",
        "        nodes_popped = nodes_present.pop(0)\n",
        "\n",
        "        # Building 1D arr of 4 nodes\n",
        "        new_nodes = []\n",
        "        for j in range(2):\n",
        "          replace_node_id = random.randint(0, 3)\n",
        "\n",
        "          rnd_item = random.randint(0, 11)\n",
        "          # Loops until unique: Can't have a repeat of a node\n",
        "          while rnd_item in nodes_present:\n",
        "            rnd_item = random.randint(0, 11)\n",
        "          nodes_popped[replace_node_id] = rnd_item \n",
        "          # print(new_nodes)\n",
        "\n",
        "        temp_route.append(nodes_popped)\n",
        "        temp_route.append(self.current_route[1])\n",
        "        temp_route.append(self.current_route[2])\n",
        "\n",
        "\n",
        "      elif (dist2 > dist1 and dist2 > dist3):\n",
        "        # Nodes of other routes\n",
        "        nodes_present = self.current_route.copy()\n",
        "        nodes_popped = nodes_present.pop(1)\n",
        "\n",
        "        # Building 1D arr of 4 nodes\n",
        "        new_nodes = []\n",
        "        for j in range(2):\n",
        "          replace_node_id = random.randint(0, 3)\n",
        "          \n",
        "\n",
        "          rnd_item = random.randint(0, 11)\n",
        "          # Loops until unique: Can't have a repeat of a node\n",
        "          while rnd_item in nodes_present:\n",
        "            rnd_item = random.randint(0, 11)\n",
        "          nodes_popped[replace_node_id] = rnd_item \n",
        "          # print(new_nodes)\n",
        "\n",
        "        temp_route.append(self.current_route[0])\n",
        "        temp_route.append(nodes_popped)\n",
        "        temp_route.append(self.current_route[2])\n",
        "\n",
        "\n",
        "      elif (dist3 > dist1 and dist3 > dist2):\n",
        "        # Nodes of other routes\n",
        "        nodes_present = self.current_route.copy()\n",
        "        nodes_popped = nodes_present.pop(2) # For Merging\n",
        "\n",
        "        # Building 1D arr of 4 nodes\n",
        "        new_nodes = []\n",
        "        for j in range(2):\n",
        "          replace_node_id = random.randint(0, 3)\n",
        "\n",
        "          rnd_item = random.randint(0, 11)\n",
        "          # Loops until unique: Can't have a repeat of a node\n",
        "          while rnd_item in nodes_present:\n",
        "            rnd_item = random.randint(0, 11)\n",
        "          nodes_popped[replace_node_id] = rnd_item \n",
        "          # print(new_nodes)\n",
        "\n",
        "        temp_route.append(self.current_route[0])\n",
        "        temp_route.append(self.current_route[2])\n",
        "        temp_route.append(nodes_popped)\n",
        "\n",
        "      # Anything Else I'll just pick 1 random route of 4 nodes\n",
        "      else:\n",
        "        # Picking 1 of 3 random routes to change\n",
        "        route_id = random.randint(0,2)\n",
        "\n",
        "        # Nodes of other routes\n",
        "        nodes_present = self.current_route.copy()\n",
        "        nodes_popped = nodes_present.pop(route_id) # For Merging\n",
        "\n",
        "        # Building 1D arr of 4 nodes\n",
        "        new_nodes = []\n",
        "        for j in range(2):\n",
        "          replace_node_id = random.randint(0, 3)\n",
        "\n",
        "          rnd_item = random.randint(0, 11)\n",
        "          # Loops until unique: Can't have a repeat of a node\n",
        "          while rnd_item in nodes_present:\n",
        "            rnd_item = random.randint(0, 11)\n",
        "          nodes_popped[replace_node_id] = rnd_item \n",
        "          # print(new_nodes)\n",
        "\n",
        "        temp_route.append(self.current_route[0])\n",
        "        temp_route.append(self.current_route[2])\n",
        "        temp_route.append(nodes_popped)\n",
        "\n",
        "      ########### Now Comparing: Temp Route Defined #########\n",
        "      prev_fitness = self.fitness_function_full_dist(self.archive[-1])\n",
        "      current_fitness = self.fitness_function_full_dist(temp_route)\n",
        "\n",
        "      if current_fitness < prev_fitness:\n",
        "        self.current_route = temp_route\n",
        "        self.archive.append(self.current_route)\n",
        "        self.best_fitness.append(current_fitness)\n",
        "      # Making the best of this iter equal the last best\n",
        "      else:\n",
        "        self.best_fitness.append(min(self.best_fitness))\n",
        "      \n",
        "      # For Everything\n",
        "      self.mean_fitness.append(np.mean(self.fitness_scores))\n",
        "\n",
        "      # Check if it's the worst known so far\n",
        "      if current_fitness > max(self.fitness_scores):\n",
        "        self.worst_fitness.append(current_fitness)\n",
        "      else:\n",
        "        self.worst_fitness.append(self.worst_fitness[-1])\n",
        "\n",
        "      self.fitness_scores.append(current_fitness)\n",
        "      \n",
        "      nitr -= 1\n",
        "\n",
        "  # My Interpretation: Pick 4 Nodes\n",
        "  # Shuffle all permutations. If better distance found then pick that.\n",
        "  # When all Permutations done. Pick another pair of 4.\n",
        "  def shuffle(self, nitr):\n",
        "    print(\"shuffle\")\n",
        "\n",
        "  ############## Calculations + Miscelaneous #################\n",
        "\n",
        "  # This will find the nodes distance to the next node\n",
        "  # Continue adding the node distances until entire route is summed up\n",
        "  # D is the single 4 node array\n",
        "  # eg [3,4,7,8] we need to calc N3 --> N4, N4 --> N7, N7 --> N8\n",
        "  # This is 3 calculations\n",
        "  def single_route_dist(self, D):\n",
        "    if len(D) != 4:\n",
        "      print(\"Error: Needs to be 4 nodes\")\n",
        "    else:\n",
        "      # We know the array is 4 items\n",
        "      # each item of D is a single node\n",
        "\n",
        "      dist1 = self.np_distances[D[0], D[1]]\n",
        "      dist2 = self.np_distances[D[1], D[2]]\n",
        "      dist3 = self.np_distances[D[2], D[3]]\n",
        "      \n",
        "      return dist1 + dist2 + dist3\n",
        "\n",
        "  # D is the full 3 routes array of 4 nodes each\n",
        "  def fitness_function_full_dist(self, D):\n",
        "    if np.shape(D) != (3,4):\n",
        "      print(\"Error: Requires the full 3 routes array\")\n",
        "    else:\n",
        "      dist_sum = 0\n",
        "      for i in range(3):\n",
        "        dist_sum += self.single_route_dist(D[i])\n",
        "      return dist_sum\n",
        "\n",
        "  # Returns the arr of worst, mean and best\n",
        "  # Only Run at the End\n",
        "  def print_fitness(self):\n",
        "    pass"
      ]
    },
    {
      "cell_type": "markdown",
      "metadata": {
        "id": "y2zA3i3aDCJ_"
      },
      "source": [
        "### Instantiating Hill Climbers"
      ]
    },
    {
      "cell_type": "markdown",
      "metadata": {
        "id": "Ngd6Vwodji9X"
      },
      "source": [
        "### Running Ruin and Recreate 3 times"
      ]
    },
    {
      "cell_type": "code",
      "execution_count": 95,
      "metadata": {
        "id": "B14wnTkTDCcu"
      },
      "outputs": [],
      "source": [
        "ruin = hill_climber(np_distance_arr, 500, \"ruin\")\n",
        "swap = hill_climber(np_distance_arr, 500, \"swap\")"
      ]
    },
    {
      "cell_type": "markdown",
      "metadata": {
        "id": "6Sc7LcPy-ZT9"
      },
      "source": [
        "## 2.3 Visualisation of Results"
      ]
    },
    {
      "cell_type": "markdown",
      "metadata": {
        "id": "yxCJzRdbn8Lt"
      },
      "source": [
        "## Visualising Ruin and Recreate Hill Climber"
      ]
    },
    {
      "cell_type": "markdown",
      "metadata": {
        "id": "AvtmtohkTa3S"
      },
      "source": [
        "### The Best Results Found So far: 500 iterations\n",
        "\n",
        "Note Each Number is a Node which is a different place"
      ]
    },
    {
      "cell_type": "code",
      "execution_count": 96,
      "metadata": {
        "colab": {
          "base_uri": "https://localhost:8080/"
        },
        "id": "c2nFvGXLTRra",
        "outputId": "bc1f1b6a-91fe-4336-9ab1-59bb71b3cfdf"
      },
      "outputs": [
        {
          "name": "stdout",
          "output_type": "stream",
          "text": [
            "The Best Route Found [[9, 8, 11, 10], [4, 5, 7, 6], [3, 2, 1, 0]], Best Fitness Found: 17.330852134192405\n"
          ]
        }
      ],
      "source": [
        "print(f\"The Best Route Found {ruin.current_route}, Best Fitness Found: {ruin.best_fitness[-1]}\")"
      ]
    },
    {
      "cell_type": "code",
      "execution_count": 97,
      "metadata": {
        "colab": {
          "base_uri": "https://localhost:8080/",
          "height": 467
        },
        "id": "civgeUZ2oBYx",
        "outputId": "2d38d653-4a35-461e-ab08-23e486aa5562"
      },
      "outputs": [
        {
          "data": {
            "text/plain": [
              "Text(0, 0.5, 'f(x) Sum of all 3 routes')"
            ]
          },
          "execution_count": 97,
          "metadata": {},
          "output_type": "execute_result"
        },
        {
          "data": {
            "image/png": "[encoded data removed]",
            "text/plain": [
              "<Figure size 640x480 with 1 Axes>"
            ]
          },
          "metadata": {},
          "output_type": "display_data"
        }
      ],
      "source": [
        "x_vals = range(1,502)\n",
        "plt.plot(x_vals, ruin.best_fitness)\n",
        "plt.plot(x_vals, ruin.worst_fitness)\n",
        "plt.plot(x_vals, ruin.mean_fitness)\n",
        "\n",
        "plt\n",
        "plt.xlabel(\"N Iterations\")\n",
        "plt.ylabel(\"f(x) Sum of all 3 routes\")"
      ]
    },
    {
      "cell_type": "markdown",
      "metadata": {
        "id": "jm_QV4NYRNoH"
      },
      "source": [
        "## Visualising the Swap Hill Climber"
      ]
    },
    {
      "cell_type": "markdown",
      "metadata": {
        "id": "6NXIo5GcSTdm"
      },
      "source": [
        "### The Best Results Found So far: 500 iterations\n",
        "\n",
        "Note Each Number is a Node which is a different place"
      ]
    },
    {
      "cell_type": "code",
      "execution_count": 98,
      "metadata": {
        "colab": {
          "base_uri": "https://localhost:8080/"
        },
        "id": "9IM-S3x7SZSi",
        "outputId": "c92bcef3-470c-40d6-b3d9-edc9b315c07b"
      },
      "outputs": [
        {
          "name": "stdout",
          "output_type": "stream",
          "text": [
            "The Best Route Found [[9, 10, 5, 2], [7, 7, 7, 7], [7, 7, 7, 7]], Best Fitness Found: 23.886259148950533\n"
          ]
        }
      ],
      "source": [
        "print(f\"The Best Route Found {swap.current_route}, Best Fitness Found: {swap.best_fitness[-1]}\")"
      ]
    },
    {
      "cell_type": "code",
      "execution_count": 99,
      "metadata": {
        "colab": {
          "base_uri": "https://localhost:8080/",
          "height": 467
        },
        "id": "FKBm1-I5RRvX",
        "outputId": "ac93f89b-c7d4-4123-805f-ee8987910694"
      },
      "outputs": [
        {
          "data": {
            "text/plain": [
              "Text(0, 0.5, 'f(x) Sum of all 3 routes')"
            ]
          },
          "execution_count": 99,
          "metadata": {},
          "output_type": "execute_result"
        },
        {
          "data": {
            "image/png": "[encoded data removed]",
            "text/plain": [
              "<Figure size 640x480 with 1 Axes>"
            ]
          },
          "metadata": {},
          "output_type": "display_data"
        }
      ],
      "source": [
        "x_vals = range(1,502)\n",
        "plt.plot(x_vals, swap.best_fitness)\n",
        "plt.plot(x_vals, swap.worst_fitness)\n",
        "plt.plot(x_vals, swap.mean_fitness)\n",
        "\n",
        "plt\n",
        "plt.xlabel(\"N Iterations\")\n",
        "plt.ylabel(\"f(x) Sum of all 3 routes\")"
      ]
    },
    {
      "cell_type": "markdown",
      "metadata": {
        "id": "EHDkXqfVQMZ0"
      },
      "source": [
        "# References\n",
        "\n",
        "Schaffer, C. (1993) “Overfitting Avoidance as Bias,” Machine Learning, 10(2), pp. 153–178. Available at: https://doi.org/10.1023/a:1022653209073. "
      ]
    }
  ],
  "metadata": {
    "colab": {
      "provenance": []
    },
    "kernelspec": {
      "display_name": "Python 3",
      "name": "python3"
    },
    "language_info": {
      "codemirror_mode": {
        "name": "ipython",
        "version": 3
      },
      "file_extension": ".py",
      "mimetype": "text/x-python",
      "name": "python",
      "nbconvert_exporter": "python",
      "pygments_lexer": "ipython3",
      "version": "3.11.3"
    }
  },
  "nbformat": 4,
  "nbformat_minor": 0
}
